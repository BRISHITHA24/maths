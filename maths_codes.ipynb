{
  "nbformat": 4,
  "nbformat_minor": 0,
  "metadata": {
    "colab": {
      "provenance": []
    },
    "kernelspec": {
      "name": "python3",
      "display_name": "Python 3"
    },
    "language_info": {
      "name": "python"
    }
  },
  "cells": [
    {
      "cell_type": "code",
      "source": [
        "# Define the function representing the right-hand side of the ODE\n",
        "def f(x, y):\n",
        "    return -2*x + 3\n",
        "\n",
        "# Define the range of x values\n",
        "x_start = 0\n",
        "x_end = 5\n",
        "num_points = 100\n",
        "step_size = (x_end - x_start) / num_points\n",
        "\n",
        "# Initialize variables for the initial condition\n",
        "x = x_start\n",
        "y = 1\n",
        "\n",
        "# Use Euler's method to solve the ODE numerically\n",
        "for _ in range(num_points):\n",
        "    y += f(x, y) * step_size\n",
        "    x += step_size\n",
        "\n",
        "# Print the final solution\n",
        "print(\"The value of y at x = \", x_end, \" is \", y)"
      ],
      "metadata": {
        "colab": {
          "base_uri": "https://localhost:8080/"
        },
        "id": "ppDEb0RvH8NY",
        "outputId": "e7dd2718-09cf-4750-96cc-cf312ed9da16"
      },
      "execution_count": 2,
      "outputs": [
        {
          "output_type": "stream",
          "name": "stdout",
          "text": [
            "The value of y at x =  5  is  -8.749999999999977\n"
          ]
        }
      ]
    },
    {
      "cell_type": "code",
      "source": [
        "growth_rate = 0.05  # Growth rate constant (5% growth per year)\n",
        "initial_population = 1000  # Initial population\n",
        "years = 10  # Number of years\n",
        "\n",
        "# Calculate the final population after growth\n",
        "final_population = initial_population * (1 + growth_rate) ** years\n",
        "\n",
        "# Print the final population after growth\n",
        "print(\"The population after\", years, \"years of growth will be:\", final_population)"
      ],
      "metadata": {
        "id": "gzeGe19HI7_P"
      },
      "execution_count": null,
      "outputs": []
    },
    {
      "cell_type": "code",
      "source": [],
      "metadata": {
        "id": "zuf1ZFuyI-pk"
      },
      "execution_count": null,
      "outputs": []
    }
  ]
}